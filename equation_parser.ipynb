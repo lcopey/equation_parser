{
 "cells": [
  {
   "cell_type": "code",
   "execution_count": 1,
   "id": "3dc02714",
   "metadata": {},
   "outputs": [],
   "source": [
    "import ast\n",
    "from structlog import get_logger\n",
    "import pandas as pd\n",
    "import numpy as np"
   ]
  },
  {
   "cell_type": "code",
   "execution_count": 2,
   "id": "ff966b49",
   "metadata": {},
   "outputs": [],
   "source": [
    "datas = pd.DataFrame(np.random.randint(0, 10, size=(10, 2)), columns=[f'col_{n+1}' for n in range(2)])"
   ]
  },
  {
   "cell_type": "code",
   "execution_count": 3,
   "id": "4264a607",
   "metadata": {},
   "outputs": [],
   "source": [
    "logger = get_logger()"
   ]
  },
  {
   "cell_type": "code",
   "execution_count": 4,
   "id": "c26883a8",
   "metadata": {},
   "outputs": [],
   "source": [
    "import operator"
   ]
  },
  {
   "cell_type": "code",
   "execution_count": 5,
   "id": "87ed2489",
   "metadata": {},
   "outputs": [],
   "source": [
    "def eval_expression(node: ast.AST, datas:pd.DataFrame):\n",
    "    log = logger.bind(func='eval expression')\n",
    "    log.msg(node)\n",
    "    return eval_node(node.body, datas=datas)\n",
    "\n",
    "def eval_constant(node: ast.AST, datas:pd.DataFrame):\n",
    "    log = logger.bind(func='eval constant')\n",
    "    log.msg(node)\n",
    "    return node.value\n",
    "\n",
    "def eval_name(node: ast.AST, datas:pd.DataFrame):\n",
    "    log = logger.bind(func='eval name')\n",
    "    log.msg(node)\n",
    "    if node.id in datas.columns:\n",
    "        return datas[node.id]    \n",
    "\n",
    "def eval_binop(node: ast.AST, datas:pd.DataFrame):\n",
    "    log = logger.bind(func='eval binop')\n",
    "    log.msg(node)\n",
    "    left_value = eval_node(node.left, datas=datas)\n",
    "    right_value = eval_node(node.right, datas=datas)\n",
    "    apply = BINARY_OPERATIONS[type(node.op)]\n",
    "    return apply(left_value, right_value)\n",
    "\n",
    "def eval_unaryop(node: ast.AST, datas:pd.DataFrame):\n",
    "    log = logger.bind(func='eval unaryop')\n",
    "    log.msg(node)\n",
    "    operand_value = eval_node(node.operand, vars)\n",
    "    apply = UNARY_OPERATIONS[type(node.op)]\n",
    "    return apply(operand_value)"
   ]
  },
  {
   "cell_type": "code",
   "execution_count": 6,
   "id": "9c055183",
   "metadata": {},
   "outputs": [],
   "source": [
    "EVALUATORS = {\n",
    "        ast.Expression: eval_expression,\n",
    "        ast.Constant: eval_constant,\n",
    "        ast.Name: eval_name,\n",
    "        ast.BinOp: eval_binop,\n",
    "        ast.UnaryOp: eval_unaryop,\n",
    "    }\n",
    "\n",
    "BINARY_OPERATIONS = {\n",
    "    ast.Add: operator.add,\n",
    "    ast.Sub: operator.sub,\n",
    "    ast.Mult: operator.mul,\n",
    "    ast.Div: operator.truediv,\n",
    "    ast.Pow: operator.pow\n",
    "}\n",
    "\n",
    "UNARY_OPERATIONS = {\n",
    "    ast.USub: operator.neg,\n",
    "}"
   ]
  },
  {
   "cell_type": "code",
   "execution_count": 7,
   "id": "0cf6ba76",
   "metadata": {},
   "outputs": [],
   "source": [
    "def eval_node(node: ast.AST, datas:pd.DataFrame):\n",
    "    log = logger.bind(func='eval node')\n",
    "    log.msg(node)\n",
    "    node_type = type(node)\n",
    "    assert node_type in EVALUATORS.keys()\n",
    "    \n",
    "    func = EVALUATORS[node_type]\n",
    "    return func(node, datas=datas)"
   ]
  },
  {
   "cell_type": "code",
   "execution_count": 8,
   "id": "f1bb9c04",
   "metadata": {},
   "outputs": [],
   "source": [
    "rule1 = \"(col_1 + 1)**2 - (2 * 3 / -4) + (col_2 * 4) + col_1 ** 2 - col_2 / 4 + col_1**(-0.4)\""
   ]
  },
  {
   "cell_type": "code",
   "execution_count": 9,
   "id": "55d78cb3",
   "metadata": {},
   "outputs": [
    {
     "data": {
      "text/plain": [
       "0     78.025306\n",
       "1     15.257858\n",
       "2    137.459157\n",
       "3     30.257858\n",
       "4     37.757858\n",
       "5     69.324349\n",
       "6    146.935275\n",
       "7     45.894394\n",
       "8           inf\n",
       "9    182.915244\n",
       "dtype: float64"
      ]
     },
     "execution_count": 9,
     "metadata": {},
     "output_type": "execute_result"
    }
   ],
   "source": [
    "(datas.col_1 + 1)**2 - (2*3 / -4) + (datas.col_2 * 4) + datas.col_1**2 -datas.col_2 / 4 + datas.col_1**(-0.4)"
   ]
  },
  {
   "cell_type": "code",
   "execution_count": 10,
   "id": "aa29b6b4",
   "metadata": {},
   "outputs": [],
   "source": [
    "node = ast.parse(rule1, '<string>', mode='eval')"
   ]
  },
  {
   "cell_type": "code",
   "execution_count": 11,
   "id": "fce6c048",
   "metadata": {},
   "outputs": [
    {
     "name": "stdout",
     "output_type": "stream",
     "text": [
      "2022-10-30 11:51.16 [info     ] <ast.Expression object at 0x0000019730FB8CD0> func=eval node\n",
      "2022-10-30 11:51.16 [info     ] <ast.Expression object at 0x0000019730FB8CD0> func=eval expression\n",
      "2022-10-30 11:51.16 [info     ] <ast.BinOp object at 0x0000019730FBBBB0> func=eval node\n",
      "2022-10-30 11:51.16 [info     ] <ast.BinOp object at 0x0000019730FBBBB0> func=eval binop\n",
      "2022-10-30 11:51.16 [info     ] <ast.BinOp object at 0x0000019730FBBC40> func=eval node\n",
      "2022-10-30 11:51.16 [info     ] <ast.BinOp object at 0x0000019730FBBC40> func=eval binop\n",
      "2022-10-30 11:51.16 [info     ] <ast.BinOp object at 0x0000019730FBBCD0> func=eval node\n",
      "2022-10-30 11:51.16 [info     ] <ast.BinOp object at 0x0000019730FBBCD0> func=eval binop\n",
      "2022-10-30 11:51.16 [info     ] <ast.BinOp object at 0x0000019730FBBD30> func=eval node\n",
      "2022-10-30 11:51.16 [info     ] <ast.BinOp object at 0x0000019730FBBD30> func=eval binop\n",
      "2022-10-30 11:51.16 [info     ] <ast.BinOp object at 0x0000019730FBBCA0> func=eval node\n",
      "2022-10-30 11:51.16 [info     ] <ast.BinOp object at 0x0000019730FBBCA0> func=eval binop\n",
      "2022-10-30 11:51.16 [info     ] <ast.BinOp object at 0x0000019730FB9390> func=eval node\n",
      "2022-10-30 11:51.16 [info     ] <ast.BinOp object at 0x0000019730FB9390> func=eval binop\n",
      "2022-10-30 11:51.16 [info     ] <ast.BinOp object at 0x0000019730FB9360> func=eval node\n",
      "2022-10-30 11:51.16 [info     ] <ast.BinOp object at 0x0000019730FB9360> func=eval binop\n",
      "2022-10-30 11:51.16 [info     ] <ast.Name object at 0x0000019730FB9330> func=eval node\n",
      "2022-10-30 11:51.16 [info     ] <ast.Name object at 0x0000019730FB9330> func=eval name\n",
      "2022-10-30 11:51.16 [info     ] <ast.Constant object at 0x0000019730FBBD90> func=eval node\n",
      "2022-10-30 11:51.16 [info     ] <ast.Constant object at 0x0000019730FBBD90> func=eval constant\n",
      "2022-10-30 11:51.16 [info     ] <ast.Constant object at 0x0000019730FB9480> func=eval node\n",
      "2022-10-30 11:51.16 [info     ] <ast.Constant object at 0x0000019730FB9480> func=eval constant\n",
      "2022-10-30 11:51.16 [info     ] <ast.BinOp object at 0x0000019730FB9450> func=eval node\n",
      "2022-10-30 11:51.16 [info     ] <ast.BinOp object at 0x0000019730FB9450> func=eval binop\n",
      "2022-10-30 11:51.16 [info     ] <ast.BinOp object at 0x0000019730FB9510> func=eval node\n",
      "2022-10-30 11:51.16 [info     ] <ast.BinOp object at 0x0000019730FB9510> func=eval binop\n",
      "2022-10-30 11:51.17 [info     ] <ast.Constant object at 0x0000019730FB9540> func=eval node\n",
      "2022-10-30 11:51.17 [info     ] <ast.Constant object at 0x0000019730FB9540> func=eval constant\n",
      "2022-10-30 11:51.17 [info     ] <ast.Constant object at 0x0000019730FB94B0> func=eval node\n",
      "2022-10-30 11:51.17 [info     ] <ast.Constant object at 0x0000019730FB94B0> func=eval constant\n",
      "2022-10-30 11:51.17 [info     ] <ast.UnaryOp object at 0x0000019730FB94E0> func=eval node\n",
      "2022-10-30 11:51.17 [info     ] <ast.UnaryOp object at 0x0000019730FB94E0> func=eval unaryop\n",
      "2022-10-30 11:51.17 [info     ] <ast.Constant object at 0x0000019730FB8B50> func=eval node\n",
      "2022-10-30 11:51.17 [info     ] <ast.Constant object at 0x0000019730FB8B50> func=eval constant\n",
      "2022-10-30 11:51.17 [info     ] <ast.BinOp object at 0x0000019730FB8D60> func=eval node\n",
      "2022-10-30 11:51.17 [info     ] <ast.BinOp object at 0x0000019730FB8D60> func=eval binop\n",
      "2022-10-30 11:51.17 [info     ] <ast.Name object at 0x0000019730FBAB90> func=eval node\n",
      "2022-10-30 11:51.17 [info     ] <ast.Name object at 0x0000019730FBAB90> func=eval name\n",
      "2022-10-30 11:51.17 [info     ] <ast.Constant object at 0x0000019730FB9C90> func=eval node\n",
      "2022-10-30 11:51.17 [info     ] <ast.Constant object at 0x0000019730FB9C90> func=eval constant\n",
      "2022-10-30 11:51.17 [info     ] <ast.BinOp object at 0x0000019730FB9BD0> func=eval node\n",
      "2022-10-30 11:51.17 [info     ] <ast.BinOp object at 0x0000019730FB9BD0> func=eval binop\n",
      "2022-10-30 11:51.17 [info     ] <ast.Name object at 0x0000019730FB8FA0> func=eval node\n",
      "2022-10-30 11:51.17 [info     ] <ast.Name object at 0x0000019730FB8FA0> func=eval name\n",
      "2022-10-30 11:51.17 [info     ] <ast.Constant object at 0x0000019730FBB340> func=eval node\n",
      "2022-10-30 11:51.17 [info     ] <ast.Constant object at 0x0000019730FBB340> func=eval constant\n",
      "2022-10-30 11:51.17 [info     ] <ast.BinOp object at 0x0000019730FBAC20> func=eval node\n",
      "2022-10-30 11:51.17 [info     ] <ast.BinOp object at 0x0000019730FBAC20> func=eval binop\n",
      "2022-10-30 11:51.17 [info     ] <ast.Name object at 0x0000019730FBB5B0> func=eval node\n",
      "2022-10-30 11:51.17 [info     ] <ast.Name object at 0x0000019730FBB5B0> func=eval name\n",
      "2022-10-30 11:51.17 [info     ] <ast.Constant object at 0x0000019730FBBB50> func=eval node\n",
      "2022-10-30 11:51.17 [info     ] <ast.Constant object at 0x0000019730FBBB50> func=eval constant\n",
      "2022-10-30 11:51.17 [info     ] <ast.BinOp object at 0x0000019730FBB100> func=eval node\n",
      "2022-10-30 11:51.17 [info     ] <ast.BinOp object at 0x0000019730FBB100> func=eval binop\n",
      "2022-10-30 11:51.17 [info     ] <ast.Name object at 0x0000019730FB9C00> func=eval node\n",
      "2022-10-30 11:51.17 [info     ] <ast.Name object at 0x0000019730FB9C00> func=eval name\n",
      "2022-10-30 11:51.17 [info     ] <ast.UnaryOp object at 0x0000019730FB9C30> func=eval node\n",
      "2022-10-30 11:51.17 [info     ] <ast.UnaryOp object at 0x0000019730FB9C30> func=eval unaryop\n",
      "2022-10-30 11:51.17 [info     ] <ast.Constant object at 0x0000019730FBA230> func=eval node\n",
      "2022-10-30 11:51.17 [info     ] <ast.Constant object at 0x0000019730FBA230> func=eval constant\n"
     ]
    },
    {
     "data": {
      "text/plain": [
       "0     78.025306\n",
       "1     15.257858\n",
       "2    137.459157\n",
       "3     30.257858\n",
       "4     37.757858\n",
       "5     69.324349\n",
       "6    146.935275\n",
       "7     45.894394\n",
       "8           inf\n",
       "9    182.915244\n",
       "dtype: float64"
      ]
     },
     "execution_count": 11,
     "metadata": {},
     "output_type": "execute_result"
    }
   ],
   "source": [
    "eval_node(node, datas=datas)"
   ]
  },
  {
   "cell_type": "code",
   "execution_count": 15,
   "id": "4f790992",
   "metadata": {},
   "outputs": [],
   "source": [
    "from pydantic import BaseModel\n",
    "from enum import Enum, auto"
   ]
  },
  {
   "cell_type": "code",
   "execution_count": 16,
   "id": "f5e2d4c6",
   "metadata": {},
   "outputs": [],
   "source": [
    "class NodeType(Enum):\n",
    "    Expression = auto()\n",
    "    Constant = auto()\n",
    "    Variable = auto()"
   ]
  },
  {
   "cell_type": "code",
   "execution_count": 17,
   "id": "ba8379e5",
   "metadata": {},
   "outputs": [],
   "source": [
    "class Node:\n",
    "    def __init__(self, node_type, left, right):\n",
    "        self.node_type = node_type\n",
    "        self.left = left\n",
    "        self.right = right"
   ]
  },
  {
   "cell_type": "code",
   "execution_count": 19,
   "id": "6f2b7b39",
   "metadata": {},
   "outputs": [
    {
     "data": {
      "text/plain": [
       "\"Expression(body=BinOp(left=BinOp(left=BinOp(left=BinOp(left=BinOp(left=BinOp(left=BinOp(left=Name(id='col_1', ctx=Load()), op=Add(), right=Constant(value=1)), op=Pow(), right=Constant(value=2)), op=Sub(), right=BinOp(left=BinOp(left=Constant(value=2), op=Mult(), right=Constant(value=3)), op=Div(), right=UnaryOp(op=USub(), operand=Constant(value=4)))), op=Add(), right=BinOp(left=Name(id='col_2', ctx=Load()), op=Mult(), right=Constant(value=4))), op=Add(), right=BinOp(left=Name(id='col_1', ctx=Load()), op=Pow(), right=Constant(value=2))), op=Sub(), right=BinOp(left=Name(id='col_2', ctx=Load()), op=Div(), right=Constant(value=4))), op=Add(), right=BinOp(left=Name(id='col_1', ctx=Load()), op=Pow(), right=UnaryOp(op=USub(), operand=Constant(value=0.4)))))\""
      ]
     },
     "execution_count": 19,
     "metadata": {},
     "output_type": "execute_result"
    }
   ],
   "source": [
    "ast.dump(node)"
   ]
  },
  {
   "cell_type": "code",
   "execution_count": null,
   "id": "0778c287",
   "metadata": {},
   "outputs": [],
   "source": []
  }
 ],
 "metadata": {
  "kernelspec": {
   "display_name": "Python 3 (ipykernel)",
   "language": "python",
   "name": "python3"
  },
  "language_info": {
   "codemirror_mode": {
    "name": "ipython",
    "version": 3
   },
   "file_extension": ".py",
   "mimetype": "text/x-python",
   "name": "python",
   "nbconvert_exporter": "python",
   "pygments_lexer": "ipython3",
   "version": "3.10.6"
  }
 },
 "nbformat": 4,
 "nbformat_minor": 5
}
