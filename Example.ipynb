{
 "cells": [
  {
   "cell_type": "code",
   "execution_count": 4,
   "id": "1d1d14f8",
   "metadata": {},
   "outputs": [
    {
     "name": "stdout",
     "output_type": "stream",
     "text": [
      "The autoreload extension is already loaded. To reload it, use:\n",
      "  %reload_ext autoreload\n"
     ]
    }
   ],
   "source": [
    "%load_ext autoreload\n",
    "%autoreload 2\n",
    "from equation_parser import *\n",
    "\n",
    "import pandas as pd\n",
    "import numpy as np"
   ]
  },
  {
   "cell_type": "code",
   "execution_count": 18,
   "id": "28e475e4",
   "metadata": {
    "scrolled": true
   },
   "outputs": [
    {
     "name": "stdout",
     "output_type": "stream",
     "text": [
      "2022-11-04 19:04.45 [debug    ] Start building                 func=build tree\n",
      "2022-11-04 19:04.45 [debug    ] <ast.BinOp object at 0x0000018D5A02FF40> func=eval node\n",
      "2022-11-04 19:04.45 [debug    ] BinOp(left=Call(func=Name(id='exp', ctx=Load()), args=[UnaryOp(op=USub(), operand=Name(id='col_1', ctx=Load()))], keywords=[]), op=Div(), right=Name(id='col_1', ctx=Load())) func=eval binop\n",
      "2022-11-04 19:04.45 [debug    ] <ast.Call object at 0x0000018D5A02CAC0> func=eval node\n",
      "2022-11-04 19:04.45 [debug    ] Call(func=Name(id='exp', ctx=Load()), args=[UnaryOp(op=USub(), operand=Name(id='col_1', ctx=Load()))], keywords=[]) func=eval Call\n",
      "2022-11-04 19:04.45 [debug    ] <ast.UnaryOp object at 0x0000018D5A02F820> func=eval node\n",
      "2022-11-04 19:04.45 [debug    ] UnaryOp(op=USub(), operand=Name(id='col_1', ctx=Load())) func=eval unary\n",
      "2022-11-04 19:04.45 [debug    ] <ast.Name object at 0x0000018D5A02FE80> func=eval node\n",
      "2022-11-04 19:04.45 [debug    ] Name(id='col_1', ctx=Load())   func=eval name\n",
      "2022-11-04 19:04.45 [debug    ] <ast.Name object at 0x0000018D5A02F1F0> func=eval node\n",
      "2022-11-04 19:04.45 [debug    ] Name(id='col_1', ctx=Load())   func=eval name\n"
     ]
    }
   ],
   "source": [
    "# rule = 'sin(col_2+2) - cos(col_1 + 1) + abs(col_1)'\n",
    "rule = 'exp(-col_1) / col_1'\n",
    "node = from_string(rule)"
   ]
  },
  {
   "cell_type": "code",
   "execution_count": 19,
   "id": "5258f0d7",
   "metadata": {},
   "outputs": [
    {
     "data": {
      "text/plain": [
       "0    0.367879\n",
       "1    0.067668\n",
       "2         inf\n",
       "3    0.067668\n",
       "4    0.016596\n",
       "5    0.000130\n",
       "6    0.000042\n",
       "7    0.367879\n",
       "8    0.016596\n",
       "9         inf\n",
       "Name: col_1, dtype: float64"
      ]
     },
     "execution_count": 19,
     "metadata": {},
     "output_type": "execute_result"
    }
   ],
   "source": [
    "datas = pd.DataFrame(np.random.randint(0, 10, size=(10, 2)), columns=[f'col_{n+1}' for n in range(2)])\n",
    "datas.eval(rule)"
   ]
  },
  {
   "cell_type": "code",
   "execution_count": 20,
   "id": "4735091e",
   "metadata": {},
   "outputs": [
    {
     "data": {
      "text/plain": [
       "0    0.367879\n",
       "1    0.067668\n",
       "2         inf\n",
       "3    0.067668\n",
       "4    0.016596\n",
       "5    0.000130\n",
       "6    0.000042\n",
       "7    0.367879\n",
       "8    0.016596\n",
       "9         inf\n",
       "Name: col_1, dtype: float64"
      ]
     },
     "execution_count": 20,
     "metadata": {},
     "output_type": "execute_result"
    }
   ],
   "source": [
    "node.eval(datas)"
   ]
  },
  {
   "cell_type": "code",
   "execution_count": 2,
   "id": "481841b0",
   "metadata": {},
   "outputs": [
    {
     "name": "stdout",
     "output_type": "stream",
     "text": [
      "2022-11-04 18:48.59 [debug    ] Start building                 func=build tree\n",
      "2022-11-04 18:48.59 [debug    ] <ast.BinOp object at 0x0000018D57F0C130> func=eval node\n",
      "2022-11-04 18:48.59 [debug    ] BinOp(left=BinOp(left=Name(id='col_2', ctx=Load()), op=Add(), right=Constant(value=2)), op=Sub(), right=BinOp(left=Name(id='col_1', ctx=Load()), op=Add(), right=Constant(value=1))) func=eval binop\n",
      "2022-11-04 18:48.59 [debug    ] <ast.BinOp object at 0x0000018D57F0C070> func=eval node\n",
      "2022-11-04 18:48.59 [debug    ] BinOp(left=Name(id='col_2', ctx=Load()), op=Add(), right=Constant(value=2)) func=eval binop\n",
      "2022-11-04 18:48.59 [debug    ] <ast.Name object at 0x0000018D57ECBE50> func=eval node\n",
      "2022-11-04 18:48.59 [debug    ] Name(id='col_2', ctx=Load())   func=eval name\n",
      "2022-11-04 18:48.59 [debug    ] <ast.Constant object at 0x0000018D57ECBEB0> func=eval node\n",
      "2022-11-04 18:48.59 [debug    ] Constant(value=2)              func=eval constant\n",
      "2022-11-04 18:48.59 [debug    ] <ast.BinOp object at 0x0000018D57ECBE80> func=eval node\n",
      "2022-11-04 18:48.59 [debug    ] BinOp(left=Name(id='col_1', ctx=Load()), op=Add(), right=Constant(value=1)) func=eval binop\n",
      "2022-11-04 18:48.59 [debug    ] <ast.Name object at 0x0000018D55985570> func=eval node\n",
      "2022-11-04 18:48.59 [debug    ] Name(id='col_1', ctx=Load())   func=eval name\n",
      "2022-11-04 18:48.59 [debug    ] <ast.Constant object at 0x0000018D55985840> func=eval node\n",
      "2022-11-04 18:48.59 [debug    ] Constant(value=1)              func=eval constant\n"
     ]
    }
   ],
   "source": [
    "rule = '(col_2+2) -(col_1 + 1)'\n",
    "node = from_string(rule)"
   ]
  },
  {
   "cell_type": "code",
   "execution_count": 15,
   "id": "ad23b025",
   "metadata": {},
   "outputs": [
    {
     "data": {
      "text/plain": [
       "0    2\n",
       "1    3\n",
       "2    2\n",
       "3    2\n",
       "4    0\n",
       "5    3\n",
       "6   -1\n",
       "7    3\n",
       "8   -4\n",
       "9    5\n",
       "dtype: int32"
      ]
     },
     "execution_count": 15,
     "metadata": {},
     "output_type": "execute_result"
    }
   ],
   "source": [
    "node.eval(datas)"
   ]
  }
 ],
 "metadata": {
  "kernelspec": {
   "display_name": "Python 3 (ipykernel)",
   "language": "python",
   "name": "python3"
  },
  "language_info": {
   "codemirror_mode": {
    "name": "ipython",
    "version": 3
   },
   "file_extension": ".py",
   "mimetype": "text/x-python",
   "name": "python",
   "nbconvert_exporter": "python",
   "pygments_lexer": "ipython3",
   "version": "3.10.6"
  },
  "vscode": {
   "interpreter": {
    "hash": "160b6b10434921f7bea84600ae6d2ac8ba7a7b2d2471b660710fb5017ea04363"
   }
  }
 },
 "nbformat": 4,
 "nbformat_minor": 5
}
