{
 "cells": [
  {
   "cell_type": "code",
   "execution_count": 1,
   "id": "3dc02714",
   "metadata": {},
   "outputs": [],
   "source": [
    "import ast\n",
    "from structlog import get_logger\n",
    "import pandas as pd\n",
    "import numpy as np"
   ]
  },
  {
   "cell_type": "code",
   "execution_count": 2,
   "id": "ff966b49",
   "metadata": {},
   "outputs": [],
   "source": [
    "datas = pd.DataFrame(np.random.randint(0, 10, size=(10, 2)), columns=[f'col_{n+1}' for n in range(2)])"
   ]
  },
  {
   "cell_type": "code",
   "execution_count": 3,
   "id": "4264a607",
   "metadata": {},
   "outputs": [],
   "source": [
    "logger = get_logger()"
   ]
  },
  {
   "cell_type": "code",
   "execution_count": 4,
   "id": "c26883a8",
   "metadata": {},
   "outputs": [],
   "source": [
    "import operator"
   ]
  },
  {
   "cell_type": "code",
   "execution_count": 5,
   "id": "34c0062f",
   "metadata": {},
   "outputs": [],
   "source": [
    "rule = 'sin(col_1+1)'"
   ]
  },
  {
   "cell_type": "code",
   "execution_count": 6,
   "id": "aa29b6b4",
   "metadata": {},
   "outputs": [],
   "source": [
    "node = ast.parse(rule, '<string>', mode='eval')"
   ]
  },
  {
   "cell_type": "code",
   "execution_count": 7,
   "id": "b529cb73",
   "metadata": {},
   "outputs": [
    {
     "data": {
      "text/plain": [
       "\"Expression(body=Call(func=Name(id='sin', ctx=Load()), args=[BinOp(left=Name(id='col_1', ctx=Load()), op=Add(), right=Constant(value=1))], keywords=[]))\""
      ]
     },
     "execution_count": 7,
     "metadata": {},
     "output_type": "execute_result"
    }
   ],
   "source": [
    "ast.dump(node)"
   ]
  },
  {
   "cell_type": "code",
   "execution_count": 8,
   "id": "372206b7",
   "metadata": {},
   "outputs": [
    {
     "data": {
      "text/plain": [
       "'sin'"
      ]
     },
     "execution_count": 8,
     "metadata": {},
     "output_type": "execute_result"
    }
   ],
   "source": [
    "node.body.func.id"
   ]
  },
  {
   "cell_type": "code",
   "execution_count": null,
   "id": "6dcaf837",
   "metadata": {},
   "outputs": [],
   "source": []
  }
 ],
 "metadata": {
  "kernelspec": {
   "display_name": "Python 3 (ipykernel)",
   "language": "python",
   "name": "python3"
  },
  "language_info": {
   "codemirror_mode": {
    "name": "ipython",
    "version": 3
   },
   "file_extension": ".py",
   "mimetype": "text/x-python",
   "name": "python",
   "nbconvert_exporter": "python",
   "pygments_lexer": "ipython3",
   "version": "3.10.6"
  },
  "vscode": {
   "interpreter": {
    "hash": "160b6b10434921f7bea84600ae6d2ac8ba7a7b2d2471b660710fb5017ea04363"
   }
  }
 },
 "nbformat": 4,
 "nbformat_minor": 5
}
