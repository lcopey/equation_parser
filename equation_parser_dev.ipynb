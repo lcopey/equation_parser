{
 "cells": [
  {
   "cell_type": "code",
   "execution_count": 1,
   "id": "3dc02714",
   "metadata": {},
   "outputs": [],
   "source": [
    "%load_ext autoreload\n",
    "%autoreload 2\n",
    "import ast\n",
    "from structlog import get_logger\n",
    "import pandas as pd\n",
    "import numpy as np"
   ]
  },
  {
   "cell_type": "code",
   "execution_count": 2,
   "id": "ff966b49",
   "metadata": {},
   "outputs": [],
   "source": [
    "datas = pd.DataFrame(np.random.randint(0, 10, size=(10, 2)), columns=[f'col_{n+1}' for n in range(2)])"
   ]
  },
  {
   "cell_type": "code",
   "execution_count": 3,
   "id": "4264a607",
   "metadata": {},
   "outputs": [],
   "source": [
    "logger = get_logger()"
   ]
  },
  {
   "cell_type": "code",
   "execution_count": 4,
   "id": "6dcaf837",
   "metadata": {},
   "outputs": [],
   "source": [
    "from equation_parser import *"
   ]
  },
  {
   "cell_type": "code",
   "execution_count": 5,
   "id": "9145f8bc",
   "metadata": {},
   "outputs": [],
   "source": [
    "rule = 'B100(col_1 - col_2) + col_2**2'"
   ]
  },
  {
   "cell_type": "code",
   "execution_count": 6,
   "id": "db7ef933",
   "metadata": {},
   "outputs": [],
   "source": [
    "rule = 'delta(col_1)'"
   ]
  },
  {
   "cell_type": "code",
   "execution_count": 7,
   "id": "4117b2b7",
   "metadata": {},
   "outputs": [
    {
     "name": "stdout",
     "output_type": "stream",
     "text": [
      "2022-11-06 11:31.39 [debug    ] Start building                 func=build tree\n",
      "2022-11-06 11:31.39 [debug    ] <ast.Call object at 0x00000228575BAF20> func=eval node\n",
      "2022-11-06 11:31.39 [debug    ] Call(func=Name(id='delta', ctx=Load()), args=[Name(id='col_1', ctx=Load())], keywords=[]) func=eval Call\n",
      "2022-11-06 11:31.39 [debug    ] <ast.Name object at 0x00000228575BAF80> func=eval node\n",
      "2022-11-06 11:31.39 [debug    ] Name(id='col_1', ctx=Load())   func=eval name\n"
     ]
    }
   ],
   "source": [
    "tree = from_string(rule)"
   ]
  },
  {
   "cell_type": "code",
   "execution_count": 8,
   "id": "82439422",
   "metadata": {},
   "outputs": [
    {
     "data": {
      "text/plain": [
       "<UnaryNode>: delta\n",
       " |--<VariableNode>: col_1"
      ]
     },
     "execution_count": 8,
     "metadata": {},
     "output_type": "execute_result"
    }
   ],
   "source": [
    "tree"
   ]
  },
  {
   "cell_type": "code",
   "execution_count": 9,
   "id": "57bf4266",
   "metadata": {},
   "outputs": [
    {
     "data": {
      "text/html": [
       "<div>\n",
       "<style scoped>\n",
       "    .dataframe tbody tr th:only-of-type {\n",
       "        vertical-align: middle;\n",
       "    }\n",
       "\n",
       "    .dataframe tbody tr th {\n",
       "        vertical-align: top;\n",
       "    }\n",
       "\n",
       "    .dataframe thead th {\n",
       "        text-align: right;\n",
       "    }\n",
       "</style>\n",
       "<table border=\"1\" class=\"dataframe\">\n",
       "  <thead>\n",
       "    <tr style=\"text-align: right;\">\n",
       "      <th></th>\n",
       "      <th>col_1</th>\n",
       "      <th>col_2</th>\n",
       "    </tr>\n",
       "  </thead>\n",
       "  <tbody>\n",
       "    <tr>\n",
       "      <th>0</th>\n",
       "      <td>2</td>\n",
       "      <td>9</td>\n",
       "    </tr>\n",
       "    <tr>\n",
       "      <th>1</th>\n",
       "      <td>6</td>\n",
       "      <td>7</td>\n",
       "    </tr>\n",
       "    <tr>\n",
       "      <th>2</th>\n",
       "      <td>0</td>\n",
       "      <td>2</td>\n",
       "    </tr>\n",
       "    <tr>\n",
       "      <th>3</th>\n",
       "      <td>6</td>\n",
       "      <td>7</td>\n",
       "    </tr>\n",
       "    <tr>\n",
       "      <th>4</th>\n",
       "      <td>8</td>\n",
       "      <td>6</td>\n",
       "    </tr>\n",
       "    <tr>\n",
       "      <th>5</th>\n",
       "      <td>5</td>\n",
       "      <td>8</td>\n",
       "    </tr>\n",
       "    <tr>\n",
       "      <th>6</th>\n",
       "      <td>5</td>\n",
       "      <td>7</td>\n",
       "    </tr>\n",
       "    <tr>\n",
       "      <th>7</th>\n",
       "      <td>8</td>\n",
       "      <td>5</td>\n",
       "    </tr>\n",
       "    <tr>\n",
       "      <th>8</th>\n",
       "      <td>8</td>\n",
       "      <td>4</td>\n",
       "    </tr>\n",
       "    <tr>\n",
       "      <th>9</th>\n",
       "      <td>2</td>\n",
       "      <td>1</td>\n",
       "    </tr>\n",
       "  </tbody>\n",
       "</table>\n",
       "</div>"
      ],
      "text/plain": [
       "   col_1  col_2\n",
       "0      2      9\n",
       "1      6      7\n",
       "2      0      2\n",
       "3      6      7\n",
       "4      8      6\n",
       "5      5      8\n",
       "6      5      7\n",
       "7      8      5\n",
       "8      8      4\n",
       "9      2      1"
      ]
     },
     "execution_count": 9,
     "metadata": {},
     "output_type": "execute_result"
    }
   ],
   "source": [
    "datas"
   ]
  },
  {
   "cell_type": "code",
   "execution_count": 10,
   "id": "1a2752b3",
   "metadata": {},
   "outputs": [
    {
     "data": {
      "text/plain": [
       "0    0\n",
       "1    4\n",
       "2   -2\n",
       "3    4\n",
       "4    6\n",
       "5    3\n",
       "6    3\n",
       "7    6\n",
       "8    6\n",
       "9    0\n",
       "Name: col_1, dtype: int32"
      ]
     },
     "execution_count": 10,
     "metadata": {},
     "output_type": "execute_result"
    }
   ],
   "source": [
    "tree.eval(datas, 0)"
   ]
  },
  {
   "cell_type": "code",
   "execution_count": 17,
   "id": "205a97a4",
   "metadata": {},
   "outputs": [
    {
     "data": {
      "text/plain": [
       "0    0\n",
       "1    4\n",
       "2    0\n",
       "3    6\n",
       "4    0\n",
       "5   -3\n",
       "6    0\n",
       "7    3\n",
       "8    0\n",
       "9    0\n",
       "Name: col_1, dtype: int32"
      ]
     },
     "execution_count": 17,
     "metadata": {},
     "output_type": "execute_result"
    }
   ],
   "source": [
    "tree.eval(datas, [0, 0, 2, 2, 4, 4, 6, 6, 8, 9])"
   ]
  },
  {
   "cell_type": "code",
   "execution_count": null,
   "id": "e5906ef8",
   "metadata": {},
   "outputs": [],
   "source": []
  },
  {
   "cell_type": "code",
   "execution_count": null,
   "id": "6420937f",
   "metadata": {},
   "outputs": [],
   "source": [
    "rule = 'sin(col_1+1)'"
   ]
  },
  {
   "cell_type": "code",
   "execution_count": null,
   "id": "f4a2d003",
   "metadata": {},
   "outputs": [],
   "source": [
    "node = ast.parse(rule, '<string>', mode='eval')"
   ]
  },
  {
   "cell_type": "code",
   "execution_count": null,
   "id": "fb5ed908",
   "metadata": {},
   "outputs": [],
   "source": [
    "ast.dump(node)"
   ]
  },
  {
   "cell_type": "code",
   "execution_count": null,
   "id": "eaac074e",
   "metadata": {},
   "outputs": [],
   "source": [
    "node.body.func.id"
   ]
  },
  {
   "cell_type": "code",
   "execution_count": null,
   "id": "c7410a1e",
   "metadata": {},
   "outputs": [],
   "source": []
  }
 ],
 "metadata": {
  "kernelspec": {
   "display_name": "Python 3 (ipykernel)",
   "language": "python",
   "name": "python3"
  },
  "language_info": {
   "codemirror_mode": {
    "name": "ipython",
    "version": 3
   },
   "file_extension": ".py",
   "mimetype": "text/x-python",
   "name": "python",
   "nbconvert_exporter": "python",
   "pygments_lexer": "ipython3",
   "version": "3.10.6"
  },
  "vscode": {
   "interpreter": {
    "hash": "160b6b10434921f7bea84600ae6d2ac8ba7a7b2d2471b660710fb5017ea04363"
   }
  }
 },
 "nbformat": 4,
 "nbformat_minor": 5
}
