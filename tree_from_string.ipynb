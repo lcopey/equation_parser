{
 "cells": [
  {
   "cell_type": "code",
   "execution_count": 1,
   "id": "3dc02714",
   "metadata": {},
   "outputs": [],
   "source": [
    "import ast\n",
    "from structlog import get_logger\n",
    "import pandas as pd\n",
    "import numpy as np"
   ]
  },
  {
   "cell_type": "code",
   "execution_count": 5,
   "id": "ff966b49",
   "metadata": {},
   "outputs": [],
   "source": [
    "datas = pd.DataFrame(np.random.randint(0, 10, size=(10, 2)), columns=[f'col_{n+1}' for n in range(2)])"
   ]
  },
  {
   "cell_type": "code",
   "execution_count": 6,
   "id": "4264a607",
   "metadata": {},
   "outputs": [],
   "source": [
    "logger = get_logger()"
   ]
  },
  {
   "cell_type": "code",
   "execution_count": 7,
   "id": "c26883a8",
   "metadata": {},
   "outputs": [],
   "source": [
    "import operator"
   ]
  },
  {
   "cell_type": "code",
   "execution_count": null,
   "id": "87ed2489",
   "metadata": {},
   "outputs": [],
   "source": [
    "def eval_expression(node: ast.AST):\n",
    "    log = logger.bind(func='eval expression')\n",
    "    log.msg(node)\n",
    "    return eval_node(node.body)\n",
    "\n",
    "def eval_constant(node: ast.AST):\n",
    "    log = logger.bind(func='eval constant')\n",
    "    log.msg(node)\n",
    "    return node.value\n",
    "\n",
    "def eval_name(node: ast.AST):\n",
    "    log = logger.bind(func='eval name')\n",
    "    log.msg(node)\n",
    "    if node.id in datas.columns:\n",
    "        return datas[node.id]    \n",
    "\n",
    "def eval_binop(node: ast.AST):\n",
    "    log = logger.bind(func='eval binop')\n",
    "    log.msg(node)\n",
    "    left_value = eval_node(node.left)\n",
    "    right_value = eval_node(node.right)\n",
    "    apply = BINARY_OPERATIONS[type(node.op)]\n",
    "    return apply(left_value, right_value)\n",
    "\n",
    "def eval_unaryop(node: ast.AST):\n",
    "    log = logger.bind(func='eval unaryop')\n",
    "    log.msg(node)\n",
    "    operand_value = eval_node(node.operand, vars)\n",
    "    apply = UNARY_OPERATIONS[type(node.op)]\n",
    "    return apply(operand_value)"
   ]
  },
  {
   "cell_type": "code",
   "execution_count": null,
   "id": "60030bb7",
   "metadata": {},
   "outputs": [],
   "source": [
    "def eval_node(node: ast.AST):\n",
    "    log = logger.bind(func='eval node')\n",
    "    log.msg(node)\n",
    "    node_type = type(node)\n",
    "    assert node_type in EVALUATORS.keys()\n",
    "    \n",
    "    func = EVALUATORS[node_type]\n",
    "    return func(node)"
   ]
  },
  {
   "cell_type": "code",
   "execution_count": 228,
   "id": "cd177641",
   "metadata": {},
   "outputs": [],
   "source": [
    "from pydantic import BaseModel\n",
    "from pydantic.validators import Callable, Any\n",
    "import json"
   ]
  },
  {
   "cell_type": "code",
   "execution_count": 229,
   "id": "5d537504",
   "metadata": {},
   "outputs": [],
   "source": [
    "class Node(BaseModel):\n",
    "    def __repr__(self):\n",
    "        return f'<{self.__class__.__name__}>'\n",
    "    \n",
    "    def eval(self, *args):\n",
    "        raise NotImplementedError\n",
    "\n",
    "class TerminaryNode(Node):\n",
    "    value: Any\n",
    "        \n",
    "    def __repr__(self):\n",
    "        return f'{super().__repr__()} value={self.value}'\n",
    "    \n",
    "class UnaryNode(Node):\n",
    "    value: Node\n",
    "    func: Callable\n",
    "        \n",
    "    def eval(self, datas: pd.DataFrame):\n",
    "        return self.func(self.value.eval(datas))\n",
    "\n",
    "class BinaryNode(Node):\n",
    "    left: Node\n",
    "    right: Node\n",
    "    func: Callable\n",
    "        \n",
    "    def eval(self, datas: pd.DataFrame):\n",
    "        return self.func(self.left.eval(datas), self.right.eval(datas))\n",
    "        \n",
    "    def __repr__(self):\n",
    "        return (f\"\"\"{super().__repr__()} {self.func}\"\"\"\n",
    "                f\"\"\"\\n\\tleft={self.left.__repr__()}\\n\\tright={self.right.__repr__()}\"\"\")\n",
    "        \n",
    "class ConstantNode(TerminaryNode):\n",
    "    def eval(self, datas: pd.DataFrame):\n",
    "        return self.value\n",
    "        \n",
    "class VariableNode(TerminaryNode):\n",
    "    def eval(self, datas: pd.DataFrame):\n",
    "        return datas[self.value]"
   ]
  },
  {
   "cell_type": "code",
   "execution_count": 270,
   "id": "310170d2",
   "metadata": {},
   "outputs": [],
   "source": [
    "import math\n",
    "import numpy as np"
   ]
  },
  {
   "cell_type": "code",
   "execution_count": 271,
   "id": "c1d3de91",
   "metadata": {},
   "outputs": [
    {
     "data": {
      "text/plain": [
       "0    0.909297\n",
       "1    0.000000\n",
       "2    0.412118\n",
       "3    0.841471\n",
       "4    0.989358\n",
       "5   -0.756802\n",
       "6    0.909297\n",
       "7    0.412118\n",
       "8    0.412118\n",
       "9   -0.756802\n",
       "Name: col_1, dtype: float64"
      ]
     },
     "execution_count": 271,
     "metadata": {},
     "output_type": "execute_result"
    }
   ],
   "source": [
    "np.sin(datas['col_1'])"
   ]
  },
  {
   "cell_type": "code",
   "execution_count": 242,
   "id": "91ef1c71",
   "metadata": {},
   "outputs": [],
   "source": [
    "from typing import Optional\n",
    "\n",
    "\n",
    "def eval_node(ast_node: ast.AST):\n",
    "    log = logger.bind(func='eval node')\n",
    "    log.msg(ast_node)\n",
    "    func = EVALUATORS[type(ast_node)]\n",
    "    return func(ast_node)\n",
    "    \n",
    "def eval_binop(ast_node: ast.AST):\n",
    "    log = logger.bind(func='eval binop')\n",
    "    log.msg(ast.dump(ast_node))\n",
    "    op=BINARY_OPERATIONS[type(ast_node.op)]\n",
    "    return BinaryNode(left=eval_node(ast_node.left), right=eval_node(ast_node.right), func=op)\n",
    "    \n",
    "def eval_constant(ast_node: ast.AST):\n",
    "    log = logger.bind(func='eval constant')\n",
    "    log.msg(ast.dump(ast_node))\n",
    "    return ConstantNode(value=ast_node.value)\n",
    "\n",
    "def eval_name(ast_node: ast.AST):\n",
    "    log = logger.bind(func='eval name')\n",
    "    log.msg(ast.dump(ast_node))\n",
    "    return VariableNode(value=ast_node.id)\n",
    "    \n",
    "def eval_unaryop(ast_node: ast.AST):\n",
    "    log = logger.bind(func='eval unary')\n",
    "    log.msg(ast.dump(ast_node))\n",
    "    op=UNARY_OPERATIONS[type(ast_node.op)]\n",
    "    return UnaryNode(func=op, value=eval_node(ast_node.operand))\n",
    "\n",
    "def build_tree(ast_node: ast.AST):\n",
    "    log = logger.bind(func='build tree')\n",
    "    node_value = ast_node.body if type(ast_node) == ast.Expression else ast_node\n",
    "    return eval_node(node_value)\n",
    "        "
   ]
  },
  {
   "cell_type": "code",
   "execution_count": 263,
   "id": "e8c562f5",
   "metadata": {},
   "outputs": [],
   "source": [
    "EVALUATORS = {\n",
    "        # ast.Expression: eval_expression,\n",
    "        ast.Constant: eval_constant,\n",
    "        ast.Name: eval_name,\n",
    "        ast.BinOp: eval_binop,\n",
    "        ast.UnaryOp: eval_unaryop,\n",
    "    }\n",
    "\n",
    "BINARY_OPERATIONS = {\n",
    "    ast.Add: operator.add,\n",
    "    ast.Sub: operator.sub,\n",
    "    ast.Mult: operator.mul,\n",
    "    ast.Div: operator.truediv,\n",
    "    ast.Pow: operator.pow\n",
    "}\n",
    "\n",
    "UNARY_OPERATIONS = {\n",
    "    ast.USub: operator.neg,\n",
    "    ast.UAdd: lambda x: x\n",
    "}"
   ]
  },
  {
   "cell_type": "code",
   "execution_count": 264,
   "id": "b764d1ac",
   "metadata": {},
   "outputs": [],
   "source": [
    "# rule = \"(col_1 + 1)**2 - (2 * 3 / -4) + (col_2 * 4) + col_1 ** 2 - col_2 / 4 + col_1**(+0.4)\"\n",
    "# rule = \"(col_1 + 2)**2 - col_2\"\n",
    "ast_node = ast.parse(rule, '<string>', mode='eval')"
   ]
  },
  {
   "cell_type": "code",
   "execution_count": 265,
   "id": "102f56cf",
   "metadata": {
    "scrolled": true
   },
   "outputs": [
    {
     "name": "stdout",
     "output_type": "stream",
     "text": [
      "2022-10-30 21:17.15 [info     ] <ast.BinOp object at 0x0000017B94BA01F0> func=eval node\n",
      "2022-10-30 21:17.15 [info     ] BinOp(left=BinOp(left=BinOp(left=BinOp(left=BinOp(left=BinOp(left=BinOp(left=Name(id='col_1', ctx=Load()), op=Add(), right=Constant(value=1)), op=Pow(), right=Constant(value=2)), op=Sub(), right=BinOp(left=BinOp(left=Constant(value=2), op=Mult(), right=Constant(value=3)), op=Div(), right=UnaryOp(op=USub(), operand=Constant(value=4)))), op=Add(), right=BinOp(left=Name(id='col_2', ctx=Load()), op=Mult(), right=Constant(value=4))), op=Add(), right=BinOp(left=Name(id='col_1', ctx=Load()), op=Pow(), right=Constant(value=2))), op=Sub(), right=BinOp(left=Name(id='col_2', ctx=Load()), op=Div(), right=Constant(value=4))), op=Add(), right=BinOp(left=Name(id='col_1', ctx=Load()), op=Pow(), right=UnaryOp(op=UAdd(), operand=Constant(value=0.4)))) func=eval binop\n",
      "2022-10-30 21:17.15 [info     ] <ast.BinOp object at 0x0000017B94BA0E50> func=eval node\n",
      "2022-10-30 21:17.15 [info     ] BinOp(left=BinOp(left=BinOp(left=BinOp(left=BinOp(left=BinOp(left=Name(id='col_1', ctx=Load()), op=Add(), right=Constant(value=1)), op=Pow(), right=Constant(value=2)), op=Sub(), right=BinOp(left=BinOp(left=Constant(value=2), op=Mult(), right=Constant(value=3)), op=Div(), right=UnaryOp(op=USub(), operand=Constant(value=4)))), op=Add(), right=BinOp(left=Name(id='col_2', ctx=Load()), op=Mult(), right=Constant(value=4))), op=Add(), right=BinOp(left=Name(id='col_1', ctx=Load()), op=Pow(), right=Constant(value=2))), op=Sub(), right=BinOp(left=Name(id='col_2', ctx=Load()), op=Div(), right=Constant(value=4))) func=eval binop\n",
      "2022-10-30 21:17.15 [info     ] <ast.BinOp object at 0x0000017B94BA1660> func=eval node\n",
      "2022-10-30 21:17.15 [info     ] BinOp(left=BinOp(left=BinOp(left=BinOp(left=BinOp(left=Name(id='col_1', ctx=Load()), op=Add(), right=Constant(value=1)), op=Pow(), right=Constant(value=2)), op=Sub(), right=BinOp(left=BinOp(left=Constant(value=2), op=Mult(), right=Constant(value=3)), op=Div(), right=UnaryOp(op=USub(), operand=Constant(value=4)))), op=Add(), right=BinOp(left=Name(id='col_2', ctx=Load()), op=Mult(), right=Constant(value=4))), op=Add(), right=BinOp(left=Name(id='col_1', ctx=Load()), op=Pow(), right=Constant(value=2))) func=eval binop\n",
      "2022-10-30 21:17.15 [info     ] <ast.BinOp object at 0x0000017B94BA1930> func=eval node\n",
      "2022-10-30 21:17.15 [info     ] BinOp(left=BinOp(left=BinOp(left=BinOp(left=Name(id='col_1', ctx=Load()), op=Add(), right=Constant(value=1)), op=Pow(), right=Constant(value=2)), op=Sub(), right=BinOp(left=BinOp(left=Constant(value=2), op=Mult(), right=Constant(value=3)), op=Div(), right=UnaryOp(op=USub(), operand=Constant(value=4)))), op=Add(), right=BinOp(left=Name(id='col_2', ctx=Load()), op=Mult(), right=Constant(value=4))) func=eval binop\n",
      "2022-10-30 21:17.15 [info     ] <ast.BinOp object at 0x0000017B94BA0D90> func=eval node\n",
      "2022-10-30 21:17.15 [info     ] BinOp(left=BinOp(left=BinOp(left=Name(id='col_1', ctx=Load()), op=Add(), right=Constant(value=1)), op=Pow(), right=Constant(value=2)), op=Sub(), right=BinOp(left=BinOp(left=Constant(value=2), op=Mult(), right=Constant(value=3)), op=Div(), right=UnaryOp(op=USub(), operand=Constant(value=4)))) func=eval binop\n",
      "2022-10-30 21:17.15 [info     ] <ast.BinOp object at 0x0000017B94BA1420> func=eval node\n",
      "2022-10-30 21:17.15 [info     ] BinOp(left=BinOp(left=Name(id='col_1', ctx=Load()), op=Add(), right=Constant(value=1)), op=Pow(), right=Constant(value=2)) func=eval binop\n",
      "2022-10-30 21:17.15 [info     ] <ast.BinOp object at 0x0000017B94BA3130> func=eval node\n",
      "2022-10-30 21:17.15 [info     ] BinOp(left=Name(id='col_1', ctx=Load()), op=Add(), right=Constant(value=1)) func=eval binop\n",
      "2022-10-30 21:17.15 [info     ] <ast.Name object at 0x0000017B94BA3070> func=eval node\n",
      "2022-10-30 21:17.15 [info     ] Name(id='col_1', ctx=Load())   func=eval name\n",
      "2022-10-30 21:17.15 [info     ] <ast.Constant object at 0x0000017B94BA14B0> func=eval node\n",
      "2022-10-30 21:17.15 [info     ] Constant(value=1)              func=eval constant\n",
      "2022-10-30 21:17.15 [info     ] <ast.Constant object at 0x0000017B94BA1540> func=eval node\n",
      "2022-10-30 21:17.15 [info     ] Constant(value=2)              func=eval constant\n",
      "2022-10-30 21:17.15 [info     ] <ast.BinOp object at 0x0000017B94BA0EE0> func=eval node\n",
      "2022-10-30 21:17.15 [info     ] BinOp(left=BinOp(left=Constant(value=2), op=Mult(), right=Constant(value=3)), op=Div(), right=UnaryOp(op=USub(), operand=Constant(value=4))) func=eval binop\n",
      "2022-10-30 21:17.15 [info     ] <ast.BinOp object at 0x0000017B94BA30A0> func=eval node\n",
      "2022-10-30 21:17.15 [info     ] BinOp(left=Constant(value=2), op=Mult(), right=Constant(value=3)) func=eval binop\n",
      "2022-10-30 21:17.15 [info     ] <ast.Constant object at 0x0000017B94BA2FE0> func=eval node\n",
      "2022-10-30 21:17.15 [info     ] Constant(value=2)              func=eval constant\n",
      "2022-10-30 21:17.15 [info     ] <ast.Constant object at 0x0000017B94BA15D0> func=eval node\n",
      "2022-10-30 21:17.15 [info     ] Constant(value=3)              func=eval constant\n",
      "2022-10-30 21:17.15 [info     ] <ast.UnaryOp object at 0x0000017B94BA3220> func=eval node\n",
      "2022-10-30 21:17.15 [info     ] UnaryOp(op=USub(), operand=Constant(value=4)) func=eval unary\n",
      "2022-10-30 21:17.15 [info     ] <ast.Constant object at 0x0000017B94BA3400> func=eval node\n",
      "2022-10-30 21:17.15 [info     ] Constant(value=4)              func=eval constant\n",
      "2022-10-30 21:17.15 [info     ] <ast.BinOp object at 0x0000017B94BA3490> func=eval node\n",
      "2022-10-30 21:17.15 [info     ] BinOp(left=Name(id='col_2', ctx=Load()), op=Mult(), right=Constant(value=4)) func=eval binop\n",
      "2022-10-30 21:17.15 [info     ] <ast.Name object at 0x0000017B94BA3D90> func=eval node\n",
      "2022-10-30 21:17.15 [info     ] Name(id='col_2', ctx=Load())   func=eval name\n",
      "2022-10-30 21:17.15 [info     ] <ast.Constant object at 0x0000017B94BA0F70> func=eval node\n",
      "2022-10-30 21:17.15 [info     ] Constant(value=4)              func=eval constant\n",
      "2022-10-30 21:17.15 [info     ] <ast.BinOp object at 0x0000017B94BA3250> func=eval node\n",
      "2022-10-30 21:17.15 [info     ] BinOp(left=Name(id='col_1', ctx=Load()), op=Pow(), right=Constant(value=2)) func=eval binop\n",
      "2022-10-30 21:17.15 [info     ] <ast.Name object at 0x0000017B94BA3100> func=eval node\n",
      "2022-10-30 21:17.15 [info     ] Name(id='col_1', ctx=Load())   func=eval name\n",
      "2022-10-30 21:17.15 [info     ] <ast.Constant object at 0x0000017B94BA0B80> func=eval node\n",
      "2022-10-30 21:17.15 [info     ] Constant(value=2)              func=eval constant\n",
      "2022-10-30 21:17.15 [info     ] <ast.BinOp object at 0x0000017B95129690> func=eval node\n",
      "2022-10-30 21:17.15 [info     ] BinOp(left=Name(id='col_2', ctx=Load()), op=Div(), right=Constant(value=4)) func=eval binop\n",
      "2022-10-30 21:17.15 [info     ] <ast.Name object at 0x0000017B9466D210> func=eval node\n",
      "2022-10-30 21:17.15 [info     ] Name(id='col_2', ctx=Load())   func=eval name\n",
      "2022-10-30 21:17.15 [info     ] <ast.Constant object at 0x0000017B9466C220> func=eval node\n",
      "2022-10-30 21:17.15 [info     ] Constant(value=4)              func=eval constant\n",
      "2022-10-30 21:17.15 [info     ] <ast.BinOp object at 0x0000017B94B8A140> func=eval node\n",
      "2022-10-30 21:17.15 [info     ] BinOp(left=Name(id='col_1', ctx=Load()), op=Pow(), right=UnaryOp(op=UAdd(), operand=Constant(value=0.4))) func=eval binop\n",
      "2022-10-30 21:17.15 [info     ] <ast.Name object at 0x0000017B94B88280> func=eval node\n",
      "2022-10-30 21:17.15 [info     ] Name(id='col_1', ctx=Load())   func=eval name\n",
      "2022-10-30 21:17.15 [info     ] <ast.UnaryOp object at 0x0000017B94396980> func=eval node\n",
      "2022-10-30 21:17.15 [info     ] UnaryOp(op=UAdd(), operand=Constant(value=0.4)) func=eval unary\n",
      "2022-10-30 21:17.15 [info     ] <ast.Constant object at 0x0000017B94396A10> func=eval node\n",
      "2022-10-30 21:17.15 [info     ] Constant(value=0.4)            func=eval constant\n"
     ]
    }
   ],
   "source": [
    "node = build_tree(ast_node)"
   ]
  },
  {
   "cell_type": "code",
   "execution_count": 266,
   "id": "a965179f",
   "metadata": {},
   "outputs": [
    {
     "data": {
      "text/plain": [
       "0     23.319508\n",
       "1     17.500000\n",
       "2    196.158225\n",
       "3     30.000000\n",
       "4    148.797397\n",
       "5     47.991101\n",
       "6     27.069508\n",
       "7    199.908225\n",
       "8    211.158225\n",
       "9     44.241101\n",
       "dtype: float64"
      ]
     },
     "execution_count": 266,
     "metadata": {},
     "output_type": "execute_result"
    }
   ],
   "source": [
    "node.eval(datas)"
   ]
  },
  {
   "cell_type": "code",
   "execution_count": 267,
   "id": "d57c0bf7",
   "metadata": {},
   "outputs": [
    {
     "data": {
      "text/plain": [
       "<BinaryNode> <built-in function add>\n",
       "\tleft=<BinaryNode> <built-in function sub>\n",
       "\tleft=<BinaryNode> <built-in function add>\n",
       "\tleft=<BinaryNode> <built-in function add>\n",
       "\tleft=<BinaryNode> <built-in function sub>\n",
       "\tleft=<BinaryNode> <built-in function pow>\n",
       "\tleft=<BinaryNode> <built-in function add>\n",
       "\tleft=<VariableNode> value=col_1\n",
       "\tright=<ConstantNode> value=1\n",
       "\tright=<ConstantNode> value=2\n",
       "\tright=<BinaryNode> <built-in function truediv>\n",
       "\tleft=<BinaryNode> <built-in function mul>\n",
       "\tleft=<ConstantNode> value=2\n",
       "\tright=<ConstantNode> value=3\n",
       "\tright=<UnaryNode>\n",
       "\tright=<BinaryNode> <built-in function mul>\n",
       "\tleft=<VariableNode> value=col_2\n",
       "\tright=<ConstantNode> value=4\n",
       "\tright=<BinaryNode> <built-in function pow>\n",
       "\tleft=<VariableNode> value=col_1\n",
       "\tright=<ConstantNode> value=2\n",
       "\tright=<BinaryNode> <built-in function truediv>\n",
       "\tleft=<VariableNode> value=col_2\n",
       "\tright=<ConstantNode> value=4\n",
       "\tright=<BinaryNode> <built-in function pow>\n",
       "\tleft=<VariableNode> value=col_1\n",
       "\tright=<UnaryNode>"
      ]
     },
     "execution_count": 267,
     "metadata": {},
     "output_type": "execute_result"
    }
   ],
   "source": [
    "node"
   ]
  },
  {
   "cell_type": "code",
   "execution_count": 233,
   "id": "6f2b7b39",
   "metadata": {},
   "outputs": [
    {
     "data": {
      "text/plain": [
       "\"Expression(body=UnaryOp(op=USub(), operand=BinOp(left=BinOp(left=Name(id='col_1', ctx=Load()), op=Add(), right=Constant(value=2)), op=Pow(), right=Constant(value=2))))\""
      ]
     },
     "execution_count": 233,
     "metadata": {},
     "output_type": "execute_result"
    }
   ],
   "source": [
    "ast.dump(ast_node)"
   ]
  },
  {
   "cell_type": "code",
   "execution_count": 65,
   "id": "0778c287",
   "metadata": {},
   "outputs": [
    {
     "data": {
      "text/plain": [
       "'col_1'"
      ]
     },
     "execution_count": 65,
     "metadata": {},
     "output_type": "execute_result"
    }
   ],
   "source": [
    "node.body.left.id"
   ]
  }
 ],
 "metadata": {
  "kernelspec": {
   "display_name": "Python 3 (ipykernel)",
   "language": "python",
   "name": "python3"
  },
  "language_info": {
   "codemirror_mode": {
    "name": "ipython",
    "version": 3
   },
   "file_extension": ".py",
   "mimetype": "text/x-python",
   "name": "python",
   "nbconvert_exporter": "python",
   "pygments_lexer": "ipython3",
   "version": "3.10.6"
  }
 },
 "nbformat": 4,
 "nbformat_minor": 5
}
